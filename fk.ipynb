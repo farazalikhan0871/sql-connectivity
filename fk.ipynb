{
 "cells": [
  {
   "cell_type": "code",
   "execution_count": 1,
   "id": "50c893ab",
   "metadata": {},
   "outputs": [],
   "source": [
    "import MySQLdb as m\n"
   ]
  },
  {
   "cell_type": "code",
   "execution_count": 3,
   "id": "c8d2f633",
   "metadata": {},
   "outputs": [
    {
     "name": "stdout",
     "output_type": "stream",
     "text": [
      "Collecting mysqlclient\n",
      "  Downloading mysqlclient-2.2.0-cp310-cp310-win_amd64.whl (199 kB)\n",
      "     -------------------------------------- 199.9/199.9 kB 1.0 MB/s eta 0:00:00\n",
      "Installing collected packages: mysqlclient\n",
      "Successfully installed mysqlclient-2.2.0\n",
      "Note: you may need to restart the kernel to use updated packages.\n"
     ]
    }
   ],
   "source": [
    "pip install mysqlclient"
   ]
  },
  {
   "cell_type": "code",
   "execution_count": 2,
   "id": "9b8b4b7f",
   "metadata": {},
   "outputs": [],
   "source": [
    "conn = m.connect(host  = 'localhost' , database = 'library' , user = 'root' , password = 'Faraz@12345')"
   ]
  },
  {
   "cell_type": "code",
   "execution_count": 3,
   "id": "d2f5d865",
   "metadata": {},
   "outputs": [],
   "source": [
    "cursor  = conn.cursor()"
   ]
  },
  {
   "cell_type": "code",
   "execution_count": 4,
   "id": "d1d577cc",
   "metadata": {},
   "outputs": [],
   "source": [
    "cursor.execute(\"select * from publisher\")\n",
    "rows = cursor.fetchall()"
   ]
  },
  {
   "cell_type": "code",
   "execution_count": 5,
   "id": "e3714f49",
   "metadata": {},
   "outputs": [
    {
     "data": {
      "text/plain": [
       "((101, 'name', 'bidar', '7411046755', 'yoyo'),\n",
       " (102, 'faraz', 'banglore', '9341751161', 'jojo'))"
      ]
     },
     "execution_count": 5,
     "metadata": {},
     "output_type": "execute_result"
    }
   ],
   "source": [
    "rows"
   ]
  },
  {
   "cell_type": "code",
   "execution_count": 46,
   "id": "bbf04046",
   "metadata": {},
   "outputs": [],
   "source": [
    "cursor.execute(\"show databases\")\n",
    "database = cursor.fetchall()"
   ]
  },
  {
   "cell_type": "code",
   "execution_count": 47,
   "id": "ac4e8e37",
   "metadata": {},
   "outputs": [
    {
     "data": {
      "text/plain": [
       "(('company',),\n",
       " ('faraz',),\n",
       " ('information_schema',),\n",
       " ('library',),\n",
       " ('mysql',),\n",
       " ('performance_schema',),\n",
       " ('sakila',),\n",
       " ('sys',),\n",
       " ('world',))"
      ]
     },
     "execution_count": 47,
     "metadata": {},
     "output_type": "execute_result"
    }
   ],
   "source": [
    "database"
   ]
  },
  {
   "cell_type": "code",
   "execution_count": 48,
   "id": "e5a42d37",
   "metadata": {},
   "outputs": [
    {
     "name": "stdout",
     "output_type": "stream",
     "text": [
      "(101, 'name', 'bidar', '7411046755', 'yoyo')\n",
      "(102, 'faraz', 'banglore', '9341751161', 'jojo')\n"
     ]
    }
   ],
   "source": [
    "cursor.execute('select * from publisher')\n",
    "row = cursor.fetchone() ## retrive the first row \n",
    "while row is not None:  ## if that row exists then \n",
    "    print(row)         ## display it\n",
    "    row = cursor.fetchone()  ## gert the next row  \n",
    "    \n",
    "    \n",
    "    "
   ]
  },
  {
   "cell_type": "code",
   "execution_count": 52,
   "id": "ebedc8a3",
   "metadata": {},
   "outputs": [
    {
     "name": "stdout",
     "output_type": "stream",
     "text": [
      "(101, 'name', 'bidar', '7411046755', 'yoyo')\n",
      "(102, 'faraz', 'banglore', '9341751161', 'jojo')\n",
      "total number of rows =  2\n"
     ]
    }
   ],
   "source": [
    "cursor.execute('select * from publisher')\n",
    "rows = cursor.fetchall()\n",
    "for row in rows:\n",
    "    print(row)\n",
    "print('total number of rows = ', cursor.rowcount)\n",
    "##cursor.close() \n",
    "##conn.close() it is used for close the connection"
   ]
  },
  {
   "cell_type": "code",
   "execution_count": 72,
   "id": "837469ff",
   "metadata": {},
   "outputs": [
    {
     "name": "stdout",
     "output_type": "stream",
     "text": [
      "101  name  bidar  7411046755  yoyo\n",
      "102  faraz  banglore  9341751161  jojo\n"
     ]
    }
   ],
   "source": [
    "cursor.execute('select * from publisher')\n",
    "rows = cursor.fetchall()\n",
    "for row in rows:\n",
    "    a1=row[0]\n",
    "    a2 = row[1]\n",
    "    a3 = row[2]\n",
    "    a4 = row[3]\n",
    "    a5 = row[4]\n",
    "    print(\"%d  %s  %s  %s  %s\" % (a1,a2,a3,a4,a5))"
   ]
  },
  {
   "cell_type": "code",
   "execution_count": 122,
   "id": "7af1c7df",
   "metadata": {},
   "outputs": [],
   "source": [
    "import MySQLdb as m  ### CREATING THE DATABASE USING FRONTEND\n"
   ]
  },
  {
   "cell_type": "code",
   "execution_count": 151,
   "id": "a8b01f89",
   "metadata": {},
   "outputs": [],
   "source": [
    "conn = m.connect(host = 'localhost' , user = 'root' , password = 'Faraz@12345' , database = 'mydatabase12')"
   ]
  },
  {
   "cell_type": "code",
   "execution_count": 152,
   "id": "de28fdc1",
   "metadata": {},
   "outputs": [
    {
     "data": {
      "text/plain": [
       "1"
      ]
     },
     "execution_count": 152,
     "metadata": {},
     "output_type": "execute_result"
    }
   ],
   "source": [
    "cursor  = conn.cursor()\n",
    "cursor.execute('create database if not exists mydatabase12')"
   ]
  },
  {
   "cell_type": "code",
   "execution_count": 153,
   "id": "1a5d7376",
   "metadata": {},
   "outputs": [],
   "source": [
    "cursor.execute(\"show databases\")\n",
    "database = cursor.fetchall()"
   ]
  },
  {
   "cell_type": "code",
   "execution_count": 154,
   "id": "4a8dee16",
   "metadata": {},
   "outputs": [
    {
     "data": {
      "text/plain": [
       "(('company',),\n",
       " ('faraz',),\n",
       " ('information_schema',),\n",
       " ('library',),\n",
       " ('mydatabase',),\n",
       " ('mydatabase1',),\n",
       " ('mydatabase100',),\n",
       " ('mydatabase12',),\n",
       " ('mysql',),\n",
       " ('performance_schema',),\n",
       " ('sakila',),\n",
       " ('sys',),\n",
       " ('world',))"
      ]
     },
     "execution_count": 154,
     "metadata": {},
     "output_type": "execute_result"
    }
   ],
   "source": [
    "database"
   ]
  },
  {
   "cell_type": "code",
   "execution_count": 155,
   "id": "3d5b9d27",
   "metadata": {},
   "outputs": [],
   "source": [
    "## CREATING TABLE USING FRONTEND\n",
    "strr = '''create table employee1 (eno int primary key , ename varchar(20) , sal int);''' "
   ]
  },
  {
   "cell_type": "code",
   "execution_count": 156,
   "id": "b0bc20a8",
   "metadata": {},
   "outputs": [
    {
     "data": {
      "text/plain": [
       "0"
      ]
     },
     "execution_count": 156,
     "metadata": {},
     "output_type": "execute_result"
    }
   ],
   "source": [
    "cursor.execute(strr)"
   ]
  },
  {
   "cell_type": "code",
   "execution_count": 109,
   "id": "4930c60e",
   "metadata": {},
   "outputs": [],
   "source": []
  },
  {
   "cell_type": "code",
   "execution_count": 157,
   "id": "8a1276ca",
   "metadata": {},
   "outputs": [
    {
     "data": {
      "text/plain": [
       "0"
      ]
     },
     "execution_count": 157,
     "metadata": {},
     "output_type": "execute_result"
    }
   ],
   "source": [
    "#insert into employee (eno, ename, sal)\n",
    "#values (101, 'faraz', 1), (102, 'tabrez', 9), (103, 'ali', 8), (104, 'khan', 7);\n",
    "#strr = '''create table employee (eno int primary key, ename varchar(20), sal int);'''\n",
    "#cursor.execute(strr)\n",
    "\n",
    "st1 = '''insert into employee1 (eno, ename, sal)\n",
    "values (101, 'faraz', 1), (102, 'tabrez', 9), (103, 'ali', 8), (104, 'khan', 7);'''\n",
    "cursor.execute(st1)\n",
    "\n",
    "cursor.execute('commit')\n"
   ]
  },
  {
   "cell_type": "code",
   "execution_count": 158,
   "id": "df1b1d34",
   "metadata": {},
   "outputs": [],
   "source": [
    "cursor.execute('select * from employee1')\n",
    "result = cursor.fetchall()"
   ]
  },
  {
   "cell_type": "code",
   "execution_count": 159,
   "id": "91264ca8",
   "metadata": {},
   "outputs": [
    {
     "data": {
      "text/plain": [
       "((101, 'faraz', 1), (102, 'tabrez', 9), (103, 'ali', 8), (104, 'khan', 7))"
      ]
     },
     "execution_count": 159,
     "metadata": {},
     "output_type": "execute_result"
    }
   ],
   "source": [
    "result "
   ]
  },
  {
   "cell_type": "code",
   "execution_count": 160,
   "id": "62967e36",
   "metadata": {},
   "outputs": [
    {
     "name": "stdout",
     "output_type": "stream",
     "text": [
      "(101, 'faraz', 1)\n",
      "(102, 'tabrez', 9)\n",
      "(103, 'ali', 8)\n",
      "(104, 'khan', 7)\n"
     ]
    }
   ],
   "source": [
    "for i in result:\n",
    "    print(i)"
   ]
  },
  {
   "cell_type": "code",
   "execution_count": 163,
   "id": "2bba39c7",
   "metadata": {},
   "outputs": [],
   "source": []
  },
  {
   "cell_type": "code",
   "execution_count": 165,
   "id": "643575a9",
   "metadata": {},
   "outputs": [],
   "source": [
    "strr1 = '''create table employee2 (eno1 int, ename1 varchar(30), sal int, foreign key(eno1) references employee1(eno));'''\n"
   ]
  },
  {
   "cell_type": "code",
   "execution_count": 166,
   "id": "8d2de877",
   "metadata": {},
   "outputs": [
    {
     "data": {
      "text/plain": [
       "0"
      ]
     },
     "execution_count": 166,
     "metadata": {},
     "output_type": "execute_result"
    }
   ],
   "source": [
    "cursor.execute(strr1)"
   ]
  },
  {
   "cell_type": "code",
   "execution_count": 174,
   "id": "8aa378b0",
   "metadata": {},
   "outputs": [],
   "source": [
    "ins =''' insert into employee2 (eno1,ename1,sal) values(102,'faraz',89),(103,'dhoni',99) '''\n",
    "cursor.execute(ins)\n",
    "conn.commit()\n",
    "conn.rollback()"
   ]
  },
  {
   "cell_type": "code",
   "execution_count": 175,
   "id": "de399b42",
   "metadata": {},
   "outputs": [],
   "source": [
    "cursor.execute('select * from employee2')\n",
    "result = cursor.fetchall()"
   ]
  },
  {
   "cell_type": "code",
   "execution_count": 176,
   "id": "edac9940",
   "metadata": {},
   "outputs": [
    {
     "name": "stdout",
     "output_type": "stream",
     "text": [
      "(102, 'faraz', 89)\n",
      "(103, 'dhoni', 99)\n",
      "(102, 'faraz', 89)\n",
      "(103, 'dhoni', 99)\n",
      "(102, 'faraz', 89)\n",
      "(103, 'dhoni', 99)\n",
      "(102, 'faraz', 89)\n",
      "(103, 'dhoni', 99)\n"
     ]
    }
   ],
   "source": [
    "for i in result:\n",
    "    print(i)"
   ]
  },
  {
   "cell_type": "code",
   "execution_count": 177,
   "id": "b7c68231",
   "metadata": {},
   "outputs": [
    {
     "data": {
      "text/plain": [
       "((102, 'faraz', 89),\n",
       " (103, 'dhoni', 99),\n",
       " (102, 'faraz', 89),\n",
       " (103, 'dhoni', 99),\n",
       " (102, 'faraz', 89),\n",
       " (103, 'dhoni', 99),\n",
       " (102, 'faraz', 89),\n",
       " (103, 'dhoni', 99))"
      ]
     },
     "execution_count": 177,
     "metadata": {},
     "output_type": "execute_result"
    }
   ],
   "source": [
    "result"
   ]
  },
  {
   "cell_type": "code",
   "execution_count": 181,
   "id": "34af6e1e",
   "metadata": {},
   "outputs": [],
   "source": [
    "cursor.execute('show databases')\n",
    "result = cursor.fetchall()"
   ]
  },
  {
   "cell_type": "code",
   "execution_count": 182,
   "id": "1ed1cde6",
   "metadata": {},
   "outputs": [
    {
     "data": {
      "text/plain": [
       "(('company',),\n",
       " ('faraz',),\n",
       " ('information_schema',),\n",
       " ('library',),\n",
       " ('mydatabase',),\n",
       " ('mydatabase1',),\n",
       " ('mydatabase100',),\n",
       " ('mydatabase12',),\n",
       " ('mysql',),\n",
       " ('performance_schema',),\n",
       " ('sakila',),\n",
       " ('sys',),\n",
       " ('world',))"
      ]
     },
     "execution_count": 182,
     "metadata": {},
     "output_type": "execute_result"
    }
   ],
   "source": [
    "result"
   ]
  },
  {
   "cell_type": "code",
   "execution_count": 183,
   "id": "a36c5198",
   "metadata": {},
   "outputs": [
    {
     "data": {
      "text/plain": [
       "0"
      ]
     },
     "execution_count": 183,
     "metadata": {},
     "output_type": "execute_result"
    }
   ],
   "source": [
    "cursor.execute('use mydatabase100')"
   ]
  },
  {
   "cell_type": "code",
   "execution_count": 184,
   "id": "073a4190",
   "metadata": {},
   "outputs": [],
   "source": [
    "table = '''create table datascience(sid int primary key , sname varchar(20), sfees int );'''"
   ]
  },
  {
   "cell_type": "code",
   "execution_count": 185,
   "id": "312feb5f",
   "metadata": {},
   "outputs": [
    {
     "data": {
      "text/plain": [
       "0"
      ]
     },
     "execution_count": 185,
     "metadata": {},
     "output_type": "execute_result"
    }
   ],
   "source": [
    "cursor.execute(table)"
   ]
  },
  {
   "cell_type": "code",
   "execution_count": 186,
   "id": "70e80600",
   "metadata": {},
   "outputs": [
    {
     "data": {
      "text/plain": [
       "0"
      ]
     },
     "execution_count": 186,
     "metadata": {},
     "output_type": "execute_result"
    }
   ],
   "source": [
    "cursor.execute(\"select * from datascience\")"
   ]
  },
  {
   "cell_type": "code",
   "execution_count": 188,
   "id": "1cb87652",
   "metadata": {},
   "outputs": [],
   "source": [
    "insert ='''insert into datascience(sid,sname,sfees) values (100,'faraz',45000),(101,'muzamil',45000),(102,'amman',45000) ;''' \n",
    "try:\n",
    "    ## executing the sql query using sql method\n",
    "    cursor.execute(insert)\n",
    "    ## save the changes to the database \n",
    "    conn.commit()\n",
    "except:\n",
    "    ## rollback if there is any error\n",
    "    conn.rollback()"
   ]
  },
  {
   "cell_type": "code",
   "execution_count": 195,
   "id": "44a20d0e",
   "metadata": {},
   "outputs": [],
   "source": [
    "cursor.execute('select * from datascience')\n",
    "result = cursor.fetchall()"
   ]
  },
  {
   "cell_type": "code",
   "execution_count": 196,
   "id": "bb0dfff5",
   "metadata": {},
   "outputs": [
    {
     "name": "stdout",
     "output_type": "stream",
     "text": [
      "(100, 'faraz', 45000)\n",
      "(101, 'muzamil', 45000)\n",
      "(102, 'amman', 45000)\n"
     ]
    }
   ],
   "source": [
    "for i in result:\n",
    "    print(i)"
   ]
  },
  {
   "cell_type": "code",
   "execution_count": 11,
   "id": "a355b276",
   "metadata": {},
   "outputs": [],
   "source": [
    "table = '''create table if not exists  internship(sid int primary key , sname varchar(30) , sfees int);'''"
   ]
  },
  {
   "cell_type": "code",
   "execution_count": 12,
   "id": "3bd2e5d1",
   "metadata": {},
   "outputs": [
    {
     "data": {
      "text/plain": [
       "0"
      ]
     },
     "execution_count": 12,
     "metadata": {},
     "output_type": "execute_result"
    }
   ],
   "source": [
    "cursor.execute(table)"
   ]
  },
  {
   "cell_type": "code",
   "execution_count": 25,
   "id": "3414508b",
   "metadata": {},
   "outputs": [],
   "source": [
    "def insert_rows(sid,sname,sfees):\n",
    "    str1 = '''insert into internship(sid,sname,sfees) values(%d,%s,%d)'''\n",
    "    ## defining the argument\n",
    "    args = (sid,sname,sfees)\n",
    "    try:\n",
    "        cursor.execute(str1 % args)\n",
    "        conn.commit()\n",
    "    except:\n",
    "        conn.rollback()\n",
    "    "
   ]
  },
  {
   "cell_type": "code",
   "execution_count": 34,
   "id": "f072b8a5",
   "metadata": {},
   "outputs": [
    {
     "name": "stdout",
     "output_type": "stream",
     "text": [
      "how many rows ? :2\n",
      "enter the student id 101\n",
      "enter the student name:faraz\n",
      "enter the student fees3500\n",
      "----------------------------------------------\n",
      "enter the student id 102\n",
      "enter the student name:attif\n",
      "enter the student fees3500\n",
      "----------------------------------------------\n"
     ]
    }
   ],
   "source": [
    "## ENTER THE ROWS FROM THE KEYBOARD\n",
    "n = int(input('how many rows ? :'))\n",
    "for i in range(n):\n",
    "    x = int(input('enter the student id '))\n",
    "    y = input('enter the student name:')\n",
    "    z = int(input('enter the student fees'))\n",
    "    insert_rows(x,y,z)\n",
    "    print(\"----------------------------------------------\")"
   ]
  },
  {
   "cell_type": "markdown",
   "id": "88620452",
   "metadata": {},
   "source": []
  },
  {
   "cell_type": "raw",
   "id": "0d4713c7",
   "metadata": {},
   "source": []
  },
  {
   "cell_type": "code",
   "execution_count": 40,
   "id": "bcab6970",
   "metadata": {},
   "outputs": [],
   "source": [
    "cursor.execute('select * from internship')\n",
    "result = cursor.fetchall()"
   ]
  },
  {
   "cell_type": "code",
   "execution_count": 41,
   "id": "dd8bda00",
   "metadata": {},
   "outputs": [
    {
     "data": {
      "text/plain": [
       "((2, '3', 4),)"
      ]
     },
     "execution_count": 41,
     "metadata": {},
     "output_type": "execute_result"
    }
   ],
   "source": [
    "result"
   ]
  },
  {
   "cell_type": "code",
   "execution_count": null,
   "id": "28558f3f",
   "metadata": {},
   "outputs": [],
   "source": []
  }
 ],
 "metadata": {
  "kernelspec": {
   "display_name": "Python 3 (ipykernel)",
   "language": "python",
   "name": "python3"
  },
  "language_info": {
   "codemirror_mode": {
    "name": "ipython",
    "version": 3
   },
   "file_extension": ".py",
   "mimetype": "text/x-python",
   "name": "python",
   "nbconvert_exporter": "python",
   "pygments_lexer": "ipython3",
   "version": "3.10.9"
  }
 },
 "nbformat": 4,
 "nbformat_minor": 5
}
